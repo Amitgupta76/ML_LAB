{
  "nbformat": 4,
  "nbformat_minor": 0,
  "metadata": {
    "colab": {
      "provenance": [],
      "include_colab_link": true
    },
    "kernelspec": {
      "name": "python3",
      "display_name": "Python 3"
    },
    "language_info": {
      "name": "python"
    }
  },
  "cells": [
    {
      "cell_type": "markdown",
      "metadata": {
        "id": "view-in-github",
        "colab_type": "text"
      },
      "source": [
        "<a href=\"https://colab.research.google.com/github/Amitgupta76/ML_LAB/blob/master/Candidateelimination.ipynb\" target=\"_parent\"><img src=\"https://colab.research.google.com/assets/colab-badge.svg\" alt=\"Open In Colab\"/></a>"
      ]
    },
    {
      "cell_type": "code",
      "execution_count": null,
      "metadata": {
        "id": "5We1Ww25caFV"
      },
      "outputs": [],
      "source": [
        "import pandas as pd \n",
        "import numpy as np \n",
        "\n"
      ]
    },
    {
      "cell_type": "code",
      "source": [
        "df = pd.read_csv('enjoysport.csv')"
      ],
      "metadata": {
        "id": "_FIX72RmdJVO"
      },
      "execution_count": null,
      "outputs": []
    },
    {
      "cell_type": "code",
      "source": [
        "df"
      ],
      "metadata": {
        "colab": {
          "base_uri": "https://localhost:8080/",
          "height": 175
        },
        "id": "n-E2n6RsfGZ-",
        "outputId": "3a7bed4d-2eeb-4530-d8de-a2da3a4c92c9"
      },
      "execution_count": null,
      "outputs": [
        {
          "output_type": "execute_result",
          "data": {
            "text/plain": [
              "     sky airtem humidity    wind water forcast enjoysport\n",
              "0  sunny   warm   normal  strong  warm    same        yes\n",
              "1  sunny   warm     high  strong  warm    same        yes\n",
              "2  rainy   cold     high  strong  warm  change         no\n",
              "3  sunny   warm     high  strong  cool  change        yes"
            ],
            "text/html": [
              "\n",
              "  <div id=\"df-09b5d032-6183-48c2-9c5c-c1e437769a31\">\n",
              "    <div class=\"colab-df-container\">\n",
              "      <div>\n",
              "<style scoped>\n",
              "    .dataframe tbody tr th:only-of-type {\n",
              "        vertical-align: middle;\n",
              "    }\n",
              "\n",
              "    .dataframe tbody tr th {\n",
              "        vertical-align: top;\n",
              "    }\n",
              "\n",
              "    .dataframe thead th {\n",
              "        text-align: right;\n",
              "    }\n",
              "</style>\n",
              "<table border=\"1\" class=\"dataframe\">\n",
              "  <thead>\n",
              "    <tr style=\"text-align: right;\">\n",
              "      <th></th>\n",
              "      <th>sky</th>\n",
              "      <th>airtem</th>\n",
              "      <th>humidity</th>\n",
              "      <th>wind</th>\n",
              "      <th>water</th>\n",
              "      <th>forcast</th>\n",
              "      <th>enjoysport</th>\n",
              "    </tr>\n",
              "  </thead>\n",
              "  <tbody>\n",
              "    <tr>\n",
              "      <th>0</th>\n",
              "      <td>sunny</td>\n",
              "      <td>warm</td>\n",
              "      <td>normal</td>\n",
              "      <td>strong</td>\n",
              "      <td>warm</td>\n",
              "      <td>same</td>\n",
              "      <td>yes</td>\n",
              "    </tr>\n",
              "    <tr>\n",
              "      <th>1</th>\n",
              "      <td>sunny</td>\n",
              "      <td>warm</td>\n",
              "      <td>high</td>\n",
              "      <td>strong</td>\n",
              "      <td>warm</td>\n",
              "      <td>same</td>\n",
              "      <td>yes</td>\n",
              "    </tr>\n",
              "    <tr>\n",
              "      <th>2</th>\n",
              "      <td>rainy</td>\n",
              "      <td>cold</td>\n",
              "      <td>high</td>\n",
              "      <td>strong</td>\n",
              "      <td>warm</td>\n",
              "      <td>change</td>\n",
              "      <td>no</td>\n",
              "    </tr>\n",
              "    <tr>\n",
              "      <th>3</th>\n",
              "      <td>sunny</td>\n",
              "      <td>warm</td>\n",
              "      <td>high</td>\n",
              "      <td>strong</td>\n",
              "      <td>cool</td>\n",
              "      <td>change</td>\n",
              "      <td>yes</td>\n",
              "    </tr>\n",
              "  </tbody>\n",
              "</table>\n",
              "</div>\n",
              "      <button class=\"colab-df-convert\" onclick=\"convertToInteractive('df-09b5d032-6183-48c2-9c5c-c1e437769a31')\"\n",
              "              title=\"Convert this dataframe to an interactive table.\"\n",
              "              style=\"display:none;\">\n",
              "        \n",
              "  <svg xmlns=\"http://www.w3.org/2000/svg\" height=\"24px\"viewBox=\"0 0 24 24\"\n",
              "       width=\"24px\">\n",
              "    <path d=\"M0 0h24v24H0V0z\" fill=\"none\"/>\n",
              "    <path d=\"M18.56 5.44l.94 2.06.94-2.06 2.06-.94-2.06-.94-.94-2.06-.94 2.06-2.06.94zm-11 1L8.5 8.5l.94-2.06 2.06-.94-2.06-.94L8.5 2.5l-.94 2.06-2.06.94zm10 10l.94 2.06.94-2.06 2.06-.94-2.06-.94-.94-2.06-.94 2.06-2.06.94z\"/><path d=\"M17.41 7.96l-1.37-1.37c-.4-.4-.92-.59-1.43-.59-.52 0-1.04.2-1.43.59L10.3 9.45l-7.72 7.72c-.78.78-.78 2.05 0 2.83L4 21.41c.39.39.9.59 1.41.59.51 0 1.02-.2 1.41-.59l7.78-7.78 2.81-2.81c.8-.78.8-2.07 0-2.86zM5.41 20L4 18.59l7.72-7.72 1.47 1.35L5.41 20z\"/>\n",
              "  </svg>\n",
              "      </button>\n",
              "      \n",
              "  <style>\n",
              "    .colab-df-container {\n",
              "      display:flex;\n",
              "      flex-wrap:wrap;\n",
              "      gap: 12px;\n",
              "    }\n",
              "\n",
              "    .colab-df-convert {\n",
              "      background-color: #E8F0FE;\n",
              "      border: none;\n",
              "      border-radius: 50%;\n",
              "      cursor: pointer;\n",
              "      display: none;\n",
              "      fill: #1967D2;\n",
              "      height: 32px;\n",
              "      padding: 0 0 0 0;\n",
              "      width: 32px;\n",
              "    }\n",
              "\n",
              "    .colab-df-convert:hover {\n",
              "      background-color: #E2EBFA;\n",
              "      box-shadow: 0px 1px 2px rgba(60, 64, 67, 0.3), 0px 1px 3px 1px rgba(60, 64, 67, 0.15);\n",
              "      fill: #174EA6;\n",
              "    }\n",
              "\n",
              "    [theme=dark] .colab-df-convert {\n",
              "      background-color: #3B4455;\n",
              "      fill: #D2E3FC;\n",
              "    }\n",
              "\n",
              "    [theme=dark] .colab-df-convert:hover {\n",
              "      background-color: #434B5C;\n",
              "      box-shadow: 0px 1px 3px 1px rgba(0, 0, 0, 0.15);\n",
              "      filter: drop-shadow(0px 1px 2px rgba(0, 0, 0, 0.3));\n",
              "      fill: #FFFFFF;\n",
              "    }\n",
              "  </style>\n",
              "\n",
              "      <script>\n",
              "        const buttonEl =\n",
              "          document.querySelector('#df-09b5d032-6183-48c2-9c5c-c1e437769a31 button.colab-df-convert');\n",
              "        buttonEl.style.display =\n",
              "          google.colab.kernel.accessAllowed ? 'block' : 'none';\n",
              "\n",
              "        async function convertToInteractive(key) {\n",
              "          const element = document.querySelector('#df-09b5d032-6183-48c2-9c5c-c1e437769a31');\n",
              "          const dataTable =\n",
              "            await google.colab.kernel.invokeFunction('convertToInteractive',\n",
              "                                                     [key], {});\n",
              "          if (!dataTable) return;\n",
              "\n",
              "          const docLinkHtml = 'Like what you see? Visit the ' +\n",
              "            '<a target=\"_blank\" href=https://colab.research.google.com/notebooks/data_table.ipynb>data table notebook</a>'\n",
              "            + ' to learn more about interactive tables.';\n",
              "          element.innerHTML = '';\n",
              "          dataTable['output_type'] = 'display_data';\n",
              "          await google.colab.output.renderOutput(dataTable, element);\n",
              "          const docLink = document.createElement('div');\n",
              "          docLink.innerHTML = docLinkHtml;\n",
              "          element.appendChild(docLink);\n",
              "        }\n",
              "      </script>\n",
              "    </div>\n",
              "  </div>\n",
              "  "
            ]
          },
          "metadata": {},
          "execution_count": 3
        }
      ]
    },
    {
      "cell_type": "code",
      "source": [
        "dfArray = df.to_numpy()\n",
        "lenattributes = len(dfArray[0]) - 1"
      ],
      "metadata": {
        "id": "uAqapRt2fJZl"
      },
      "execution_count": null,
      "outputs": []
    },
    {
      "cell_type": "code",
      "source": [
        "data = pd.read_csv('enjoysport.csv')\n",
        "print(data,\"\\n\")"
      ],
      "metadata": {
        "colab": {
          "base_uri": "https://localhost:8080/"
        },
        "id": "EmJPOWYsfmw-",
        "outputId": "8fcca27d-4c15-4761-d8ff-210de9d6e71b"
      },
      "execution_count": null,
      "outputs": [
        {
          "output_type": "stream",
          "name": "stdout",
          "text": [
            "     sky airtem humidity    wind water forcast enjoysport\n",
            "0  sunny   warm   normal  strong  warm    same        yes\n",
            "1  sunny   warm     high  strong  warm    same        yes\n",
            "2  rainy   cold     high  strong  warm  change         no\n",
            "3  sunny   warm     high  strong  cool  change        yes \n",
            "\n"
          ]
        }
      ]
    },
    {
      "cell_type": "code",
      "source": [
        "\n",
        "d = np.array(data)[:,:-1]\n",
        "print(\"\\n The attributes are: \",d)\n",
        "target = np.array(data)[:,-1]\n",
        "print(\"\\n The target is: \",target)"
      ],
      "metadata": {
        "colab": {
          "base_uri": "https://localhost:8080/"
        },
        "id": "N-1-8naAgWc_",
        "outputId": "4a8eda3e-93b1-49d7-ebc7-8c897a0bc3eb"
      },
      "execution_count": null,
      "outputs": [
        {
          "output_type": "stream",
          "name": "stdout",
          "text": [
            "\n",
            " The attributes are:  [['sunny' 'warm' 'normal' 'strong' 'warm' 'same']\n",
            " ['sunny' 'warm' 'high' 'strong' 'warm' 'same']\n",
            " ['rainy' 'cold' 'high' 'strong' 'warm' 'change']\n",
            " ['sunny' 'warm' 'high' 'strong' 'cool' 'change']]\n",
            "\n",
            " The target is:  ['yes' 'yes' 'no' 'yes']\n"
          ]
        }
      ]
    },
    {
      "cell_type": "code",
      "source": [
        "#making an array of all the attributes\n",
        "concepts = np.array(data.iloc[:,0:-1])\n",
        "print(\"The attributes are: \",concepts)\n",
        "\n",
        "#segragating the target that has positive and negative examples\n",
        "target = np.array(data.iloc[:,-1])\n",
        "print(\"\\n The target is: \",target)\n",
        "\n",
        "#training function to implement candidate_elimination algorithm\n",
        "def learn(concepts, target):\n",
        " specific_h = concepts[0].copy()\n",
        " print(\"\\n Initialization of specific_h and general_h\")\n",
        " print(specific_h)\n",
        " general_h = [[\"?\" for i in range(len(specific_h))] for i in\n",
        "range(len(specific_h))]\n",
        " print(general_h)\n",
        " for i, h in enumerate(concepts):\n",
        "     if target[i] == \"yes\":\n",
        "         for x in range(len(specific_h)):\n",
        "             if h[x]!= specific_h[x]:\n",
        "                 specific_h[x] ='?'\n",
        "                 general_h[x][x] ='?'\n",
        "             print(specific_h)\n",
        "     print(specific_h)\n",
        "     if target[i] == \"no\":\n",
        "         for x in range(len(specific_h)):\n",
        "             if h[x]!= specific_h[x]:\n",
        "                 general_h[x][x] = specific_h[x]\n",
        "             else:\n",
        "                 general_h[x][x] = '?'\n",
        "     print(\"\\n Steps of Candidate Elimination Algorithm\",i+1)\n",
        "     print(specific_h)\n",
        "     print(general_h)\n",
        " indices = [i for i, val in enumerate(general_h) if val ==\n",
        "['?', '?', '?', '?', '?', '?']]\n",
        " for i in indices:\n",
        "     general_h.remove(['?', '?', '?', '?', '?', '?'])\n",
        " return specific_h, general_h\n",
        "s_final, g_final = learn(concepts, target)\n",
        "\n",
        "#obtaining the final hypothesis\n",
        "print(\"\\nFinal Specific_h:\", s_final, sep=\"\\n\")\n",
        "print(\"\\nFinal General_h:\", g_final, sep=\"\\n\")\n",
        "     "
      ],
      "metadata": {
        "colab": {
          "base_uri": "https://localhost:8080/"
        },
        "id": "yHshLpUiiAMf",
        "outputId": "27aea994-46c1-4a42-b9fe-52ed03aca246"
      },
      "execution_count": null,
      "outputs": [
        {
          "output_type": "stream",
          "name": "stdout",
          "text": [
            "The attributes are:  [['sunny' 'warm' 'normal' 'strong' 'warm' 'same']\n",
            " ['sunny' 'warm' 'high' 'strong' 'warm' 'same']\n",
            " ['rainy' 'cold' 'high' 'strong' 'warm' 'change']\n",
            " ['sunny' 'warm' 'high' 'strong' 'cool' 'change']]\n",
            "\n",
            " The target is:  ['yes' 'yes' 'no' 'yes']\n",
            "\n",
            " Initialization of specific_h and general_h\n",
            "['sunny' 'warm' 'normal' 'strong' 'warm' 'same']\n",
            "[['?', '?', '?', '?', '?', '?'], ['?', '?', '?', '?', '?', '?'], ['?', '?', '?', '?', '?', '?'], ['?', '?', '?', '?', '?', '?'], ['?', '?', '?', '?', '?', '?'], ['?', '?', '?', '?', '?', '?']]\n",
            "['sunny' 'warm' 'normal' 'strong' 'warm' 'same']\n",
            "['sunny' 'warm' 'normal' 'strong' 'warm' 'same']\n",
            "['sunny' 'warm' 'normal' 'strong' 'warm' 'same']\n",
            "['sunny' 'warm' 'normal' 'strong' 'warm' 'same']\n",
            "['sunny' 'warm' 'normal' 'strong' 'warm' 'same']\n",
            "['sunny' 'warm' 'normal' 'strong' 'warm' 'same']\n",
            "['sunny' 'warm' 'normal' 'strong' 'warm' 'same']\n",
            "\n",
            " Steps of Candidate Elimination Algorithm 1\n",
            "['sunny' 'warm' 'normal' 'strong' 'warm' 'same']\n",
            "[['?', '?', '?', '?', '?', '?'], ['?', '?', '?', '?', '?', '?'], ['?', '?', '?', '?', '?', '?'], ['?', '?', '?', '?', '?', '?'], ['?', '?', '?', '?', '?', '?'], ['?', '?', '?', '?', '?', '?']]\n",
            "['sunny' 'warm' 'normal' 'strong' 'warm' 'same']\n",
            "['sunny' 'warm' 'normal' 'strong' 'warm' 'same']\n",
            "['sunny' 'warm' '?' 'strong' 'warm' 'same']\n",
            "['sunny' 'warm' '?' 'strong' 'warm' 'same']\n",
            "['sunny' 'warm' '?' 'strong' 'warm' 'same']\n",
            "['sunny' 'warm' '?' 'strong' 'warm' 'same']\n",
            "['sunny' 'warm' '?' 'strong' 'warm' 'same']\n",
            "\n",
            " Steps of Candidate Elimination Algorithm 2\n",
            "['sunny' 'warm' '?' 'strong' 'warm' 'same']\n",
            "[['?', '?', '?', '?', '?', '?'], ['?', '?', '?', '?', '?', '?'], ['?', '?', '?', '?', '?', '?'], ['?', '?', '?', '?', '?', '?'], ['?', '?', '?', '?', '?', '?'], ['?', '?', '?', '?', '?', '?']]\n",
            "['sunny' 'warm' '?' 'strong' 'warm' 'same']\n",
            "\n",
            " Steps of Candidate Elimination Algorithm 3\n",
            "['sunny' 'warm' '?' 'strong' 'warm' 'same']\n",
            "[['sunny', '?', '?', '?', '?', '?'], ['?', 'warm', '?', '?', '?', '?'], ['?', '?', '?', '?', '?', '?'], ['?', '?', '?', '?', '?', '?'], ['?', '?', '?', '?', '?', '?'], ['?', '?', '?', '?', '?', 'same']]\n",
            "['sunny' 'warm' '?' 'strong' 'warm' 'same']\n",
            "['sunny' 'warm' '?' 'strong' 'warm' 'same']\n",
            "['sunny' 'warm' '?' 'strong' 'warm' 'same']\n",
            "['sunny' 'warm' '?' 'strong' 'warm' 'same']\n",
            "['sunny' 'warm' '?' 'strong' '?' 'same']\n",
            "['sunny' 'warm' '?' 'strong' '?' '?']\n",
            "['sunny' 'warm' '?' 'strong' '?' '?']\n",
            "\n",
            " Steps of Candidate Elimination Algorithm 4\n",
            "['sunny' 'warm' '?' 'strong' '?' '?']\n",
            "[['sunny', '?', '?', '?', '?', '?'], ['?', 'warm', '?', '?', '?', '?'], ['?', '?', '?', '?', '?', '?'], ['?', '?', '?', '?', '?', '?'], ['?', '?', '?', '?', '?', '?'], ['?', '?', '?', '?', '?', '?']]\n",
            "\n",
            "Final Specific_h:\n",
            "['sunny' 'warm' '?' 'strong' '?' '?']\n",
            "\n",
            "Final General_h:\n",
            "[['sunny', '?', '?', '?', '?', '?'], ['?', 'warm', '?', '?', '?', '?']]\n"
          ]
        }
      ]
    }
  ]
}