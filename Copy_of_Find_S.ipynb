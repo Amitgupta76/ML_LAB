{
  "nbformat": 4,
  "nbformat_minor": 0,
  "metadata": {
    "colab": {
      "provenance": [],
      "include_colab_link": true
    },
    "kernelspec": {
      "name": "python3",
      "display_name": "Python 3"
    },
    "language_info": {
      "name": "python"
    }
  },
  "cells": [
    {
      "cell_type": "markdown",
      "metadata": {
        "id": "view-in-github",
        "colab_type": "text"
      },
      "source": [
        "<a href=\"https://colab.research.google.com/github/Amitgupta76/ML_LAB/blob/master/Copy_of_Find_S.ipynb\" target=\"_parent\"><img src=\"https://colab.research.google.com/assets/colab-badge.svg\" alt=\"Open In Colab\"/></a>"
      ]
    },
    {
      "cell_type": "code",
      "execution_count": null,
      "metadata": {
        "id": "2FnuD7tBjxJC"
      },
      "outputs": [],
      "source": [
        "import numpy as np\n",
        "import pandas as pd"
      ]
    },
    {
      "cell_type": "code",
      "source": [
        "data = pd.read_csv(\"data.csv\")\n",
        "print(data,\"\\n\")"
      ],
      "metadata": {
        "colab": {
          "base_uri": "https://localhost:8080/"
        },
        "id": "tk1mQDgHj5KX",
        "outputId": "ba5bb8a8-4f16-4335-c635-a07d014e66e3"
      },
      "execution_count": null,
      "outputs": [
        {
          "output_type": "stream",
          "name": "stdout",
          "text": [
            "        Time Weather Temperature Company Humidity    Wind   Goes\n",
            "0    Morning   Sunny        Warm     Yes     Mild  Strong    Yes\n",
            "1    Evening   Rainy        Cold      No     Mild  Normal     No\n",
            "2    Morning   Sunny    Moderate     Yes   Normal  Normal    Yes\n",
            "3    Evening   Sunny        Cold     Yes     High  Strong  Yes   \n",
            "\n"
          ]
        }
      ]
    },
    {
      "cell_type": "code",
      "source": [
        "d = np.array(data)[:,:-1]\n",
        "print(\"\\n The attributes are: \",d)\n",
        "target = np.array(data)[:,-1]\n",
        "print(\"\\n The target is: \",target)"
      ],
      "metadata": {
        "colab": {
          "base_uri": "https://localhost:8080/"
        },
        "id": "fNI5i_EOlHA3",
        "outputId": "dee12f77-38fd-4ee1-a5cf-a22a04307584"
      },
      "execution_count": null,
      "outputs": [
        {
          "output_type": "stream",
          "name": "stdout",
          "text": [
            "\n",
            " The attributes are:  [['  Morning' 'Sunny' 'Warm' 'Yes' 'Mild' 'Strong']\n",
            " ['  Evening' ' Rainy' 'Cold' 'No' 'Mild' 'Normal']\n",
            " ['  Morning' 'Sunny' 'Moderate' 'Yes' 'Normal' 'Normal']\n",
            " ['  Evening' 'Sunny' 'Cold' 'Yes' 'High' 'Strong']]\n",
            "\n",
            " The target is:  ['Yes' 'No' 'Yes' 'Yes  ']\n"
          ]
        }
      ]
    },
    {
      "cell_type": "code",
      "source": [
        "def findS(c,t):\n",
        "    for i, val in enumerate(t):\n",
        "        if val == \"Yes\":\n",
        "            specific_hypothesis = c[i].copy()\n",
        "            break\n",
        "             \n",
        "    for i, val in enumerate(c):\n",
        "        if t[i] == \"Yes\":\n",
        "            for x in range(len(specific_hypothesis)):\n",
        "                if val[x] != specific_hypothesis[x]:\n",
        "                    specific_hypothesis[x] = '?'\n",
        "                else:\n",
        "                    pass\n",
        "                 \n",
        "    return specific_hypothesis\n",
        " \n",
        "print(\"\\n The final hypothesis is:\",findS(d,target))"
      ],
      "metadata": {
        "colab": {
          "base_uri": "https://localhost:8080/"
        },
        "id": "-ykuMBZNlN4m",
        "outputId": "4e15931b-b071-458d-9f3a-c2d8daced357"
      },
      "execution_count": null,
      "outputs": [
        {
          "output_type": "stream",
          "name": "stdout",
          "text": [
            "\n",
            " The final hypothesis is: ['  Morning' 'Sunny' '?' 'Yes' '?' '?']\n"
          ]
        }
      ]
    }
  ]
}