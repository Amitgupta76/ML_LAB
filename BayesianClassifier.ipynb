{
  "nbformat": 4,
  "nbformat_minor": 0,
  "metadata": {
    "colab": {
      "provenance": [],
      "authorship_tag": "ABX9TyOZDSPFE1FEt47Up5TwX77B",
      "include_colab_link": true
    },
    "kernelspec": {
      "name": "python3",
      "display_name": "Python 3"
    },
    "language_info": {
      "name": "python"
    }
  },
  "cells": [
    {
      "cell_type": "markdown",
      "metadata": {
        "id": "view-in-github",
        "colab_type": "text"
      },
      "source": [
        "<a href=\"https://colab.research.google.com/github/Amitgupta76/ML_LAB/blob/master/BayesianClassifier.ipynb\" target=\"_parent\"><img src=\"https://colab.research.google.com/assets/colab-badge.svg\" alt=\"Open In Colab\"/></a>"
      ]
    },
    {
      "cell_type": "code",
      "execution_count": 1,
      "metadata": {
        "colab": {
          "base_uri": "https://localhost:8080/"
        },
        "id": "sS0KbgWSAIh7",
        "outputId": "a3894606-4d4c-4e21-f746-c7308bbf46d2"
      },
      "outputs": [
        {
          "output_type": "stream",
          "name": "stdout",
          "text": [
            "\n",
            " The total number of Training Data : (514, 1)\n",
            "\n",
            " The total number of Test Data : (254, 1)\n",
            "\n",
            " Confusion matrix\n",
            "[[142  33]\n",
            " [ 27  52]]\n",
            "\n",
            " Accuracy of the classifier is 0.764\n",
            "\n",
            " The value of Precision 0.612\n",
            "\n",
            " The value of Recall 0.658\n",
            " Predicted Value for individual Test Data: [1]\n"
          ]
        }
      ],
      "source": [
        "import pandas as pd\n",
        "from sklearn.model_selection import train_test_split\n",
        "from sklearn.naive_bayes import GaussianNB\n",
        "from sklearn import metrics\n",
        "\n",
        "df = pd.read_csv(\"pima_indian.csv\")\n",
        "feature_col_names = ['num_preg', 'glucose_conc', 'diastolic_bp', 'thickness', 'insulin', 'bmi', 'diab_pred', 'age']\n",
        "predicted_class_names = ['diabetes']\n",
        "\n",
        "X = df[feature_col_names].values # these are factors for the prediction\n",
        "y = df[predicted_class_names].values # this is what we want to predict\n",
        "\n",
        "#splitting the dataset into train and test data\n",
        "\n",
        "xtrain,xtest,ytrain,ytest=train_test_split(X,y,test_size=0.33)\n",
        "\n",
        "print ('\\n The total number of Training Data :',ytrain.shape)\n",
        "print ('\\n The total number of Test Data :',ytest.shape)\n",
        "\n",
        "\n",
        "# Training Naive Bayes (NB) classifier on training data.\n",
        "\n",
        "clf = GaussianNB().fit(xtrain,ytrain.ravel())\n",
        "predicted = clf.predict(xtest)\n",
        "predictTestData= clf.predict([[6,148,72,35,0,33.6,0.627,50]])\n",
        "\n",
        "#printing Confusion matrix, accuracy, Precision and Recall\n",
        "\n",
        "print('\\n Confusion matrix')\n",
        "print(metrics.confusion_matrix(ytest,predicted))\n",
        "\n",
        "print('\\n Accuracy of the classifier is',round(metrics.accuracy_score(ytest,predicted) ,3))\n",
        "\n",
        "print('\\n The value of Precision', round(metrics.precision_score(ytest,predicted), 3))\n",
        "\n",
        "print('\\n The value of Recall', round(metrics.recall_score(ytest,predicted), 3))\n",
        "\n",
        "print(\" Predicted Value for individual Test Data:\", predictTestData)"
      ]
    }
  ]
}