{
  "nbformat": 4,
  "nbformat_minor": 0,
  "metadata": {
    "colab": {
      "provenance": [],
      "include_colab_link": true
    },
    "kernelspec": {
      "name": "python3",
      "display_name": "Python 3"
    },
    "language_info": {
      "name": "python"
    }
  },
  "cells": [
    {
      "cell_type": "markdown",
      "metadata": {
        "id": "view-in-github",
        "colab_type": "text"
      },
      "source": [
        "<a href=\"https://colab.research.google.com/github/Amitgupta76/ML_LAB/blob/master/ID3_DecisionTree.ipynb\" target=\"_parent\"><img src=\"https://colab.research.google.com/assets/colab-badge.svg\" alt=\"Open In Colab\"/></a>"
      ]
    },
    {
      "cell_type": "code",
      "execution_count": null,
      "metadata": {
        "id": "CWZ1TJXXuB1f"
      },
      "outputs": [],
      "source": [
        "from google.colab import drive\n",
        "drive.mount('/content/drive')"
      ]
    },
    {
      "cell_type": "code",
      "source": [
        "import math\n",
        "import csv"
      ],
      "metadata": {
        "id": "8RScDXinuWk-"
      },
      "execution_count": null,
      "outputs": []
    },
    {
      "cell_type": "code",
      "source": [
        "# this function loads the csv file\n",
        "def load_csv(filename):\n",
        "    lines=csv.reader(open(filename,\"r\"))\n",
        "    dataset = list(lines)\n",
        "    headers = dataset.pop(0)\n",
        "    return dataset,headers"
      ],
      "metadata": {
        "id": "23cioNwXuoIM"
      },
      "execution_count": null,
      "outputs": []
    },
    {
      "cell_type": "code",
      "source": [
        "# to create the nodes of the tree\n",
        "class Node:\n",
        "    def __init__(self,attribute):\n",
        "        self.attribute=attribute\n",
        "        self.children=[]\n",
        "        self.answer=\"\""
      ],
      "metadata": {
        "id": "qdzZE8hzuuSk"
      },
      "execution_count": null,
      "outputs": []
    },
    {
      "cell_type": "code",
      "source": [
        "# to create subtables\n",
        "def subtables(data,col,delete):\n",
        "    dic={}\n",
        "    coldata=[row[col] for row in data]\n",
        "    attr=list(set(coldata))\n",
        "    \n",
        "    counts=[0]*len(attr)\n",
        "    r=len(data)\n",
        "    c=len(data[0])\n",
        "    for x in range(len(attr)):\n",
        "        for y in range(r):\n",
        "            if data[y][col]==attr[x]:\n",
        "                counts[x]+=1\n",
        "        \n",
        "    for x in range(len(attr)):\n",
        "        dic[attr[x]]=[[0 for i in range(c)] for j in range(counts[x])]\n",
        "        pos=0\n",
        "        for y in range(r):\n",
        "            if data[y][col]==attr[x]:\n",
        "                if delete:\n",
        "                    del data[y][col]\n",
        "                dic[attr[x]][pos]=data[y]\n",
        "                pos+=1\n",
        "    return attr,dic"
      ],
      "metadata": {
        "id": "lgM9ZSHquxpk"
      },
      "execution_count": null,
      "outputs": []
    },
    {
      "cell_type": "code",
      "source": [
        "# t0 calculate the entropy of the attributes\n",
        "def entropy(S):\n",
        "    attr=list(set(S))\n",
        "    if len(attr)==1:\n",
        "        return 0\n",
        "    \n",
        "    counts=[0,0]\n",
        "    for i in range(2):\n",
        "        counts[i]=sum([1 for x in S if attr[i]==x])/(len(S)*1.0)\n",
        "    \n",
        "    sums=0\n",
        "    for cnt in counts:\n",
        "        sums+=-1*cnt*math.log(cnt,2)\n",
        "    return sums"
      ],
      "metadata": {
        "id": "m8XSlDb2u0Z9"
      },
      "execution_count": null,
      "outputs": []
    },
    {
      "cell_type": "code",
      "source": [
        "# to compute the compute_gain\n",
        "def compute_gain(data,col):\n",
        "    attr,dic = subtables(data,col,delete=False)\n",
        "    \n",
        "    total_size=len(data)\n",
        "    entropies=[0]*len(attr)\n",
        "    ratio=[0]*len(attr)\n",
        "    \n",
        "    total_entropy=entropy([row[-1] for row in data])\n",
        "    for x in range(len(attr)):\n",
        "        ratio[x]=len(dic[attr[x]])/(total_size*1.0)\n",
        "        entropies[x]=entropy([row[-1] for row in dic[attr[x]]])\n",
        "        total_entropy-=ratio[x]*entropies[x]\n",
        "    return total_entropy"
      ],
      "metadata": {
        "id": "b61Fv6oFu3LG"
      },
      "execution_count": null,
      "outputs": []
    },
    {
      "cell_type": "code",
      "source": [
        "# to build the tree\n",
        "def build_tree(data,features):\n",
        "    lastcol=[row[-1] for row in data]\n",
        "    if(len(set(lastcol)))==1:\n",
        "        node=Node(\"\")\n",
        "        node.answer=lastcol[0]\n",
        "        return node\n",
        "    \n",
        "    n=len(data[0])-1\n",
        "    gains=[0]*n\n",
        "    for col in range(n):\n",
        "        gains[col]=compute_gain(data,col)\n",
        "    split=gains.index(max(gains))\n",
        "    node=Node(features[split])\n",
        "    fea = features[:split]+features[split+1:]\n",
        "\n",
        "    \n",
        "    attr,dic=subtables(data,split,delete=True)\n",
        "    \n",
        "    for x in range(len(attr)):\n",
        "        child=build_tree(dic[attr[x]],fea)\n",
        "        node.children.append((attr[x],child))\n",
        "    return node"
      ],
      "metadata": {
        "id": "qzFHbMQTu_x_"
      },
      "execution_count": null,
      "outputs": []
    },
    {
      "cell_type": "code",
      "source": [
        "# to print the tree\n",
        "def print_tree(node,level):\n",
        "    if node.answer!=\"\":\n",
        "        print(\"  \"*level,node.answer)\n",
        "        return\n",
        "    \n",
        "    print(\"  \"*level,node.attribute)\n",
        "    for value,n in node.children:\n",
        "        print(\"  \"*(level+1),value)\n",
        "        print_tree(n,level+2)"
      ],
      "metadata": {
        "id": "CLiM5VIgvAbX"
      },
      "execution_count": null,
      "outputs": []
    },
    {
      "cell_type": "code",
      "source": [
        "# to classify\n",
        "def classify(node,x_test,features):\n",
        "    if node.answer!=\"\":\n",
        "        print(node.answer)\n",
        "        return\n",
        "    pos=features.index(node.attribute)\n",
        "    for value, n in node.children:\n",
        "        if x_test[pos]==value:\n",
        "            classify(n,x_test,features)"
      ],
      "metadata": {
        "id": "oR7pEtA6vCRe"
      },
      "execution_count": null,
      "outputs": []
    },
    {
      "cell_type": "code",
      "source": [
        "'''Main program'''\n",
        "dataset,features=load_csv(\"/content/drive/MyDrive/id3.csv\")\n",
        "node1=build_tree(dataset,features)\n",
        "\n",
        "print(\"The decision tree for the dataset using ID3 algorithm is\")\n",
        "print_tree(node1,0)\n",
        "testdata,features=load_csv(\"/content/drive/MyDrive/id3_test.csv\")\n",
        "\n",
        "for xtest in testdata:\n",
        "    print(\"The test instance:\",xtest)\n",
        "    print(\"The label for test instance:\")\n",
        "    classify(node1,xtest,features)"
      ],
      "metadata": {
        "colab": {
          "base_uri": "https://localhost:8080/"
        },
        "id": "KrmFFrbtvEU3",
        "outputId": "de6b2a1c-2cbf-4a42-b1d6-1d62029c522b"
      },
      "execution_count": null,
      "outputs": [
        {
          "output_type": "stream",
          "name": "stdout",
          "text": [
            "The decision tree for the dataset using ID3 algorithm is\n",
            " Outlook\n",
            "   rain\n",
            "     Wind\n",
            "       strong\n",
            "         no\n",
            "       weak\n",
            "         yes\n",
            "   sunny\n",
            "     Humidity\n",
            "       normal\n",
            "         yes\n",
            "       high\n",
            "         no\n",
            "   overcast\n",
            "     yes\n",
            "The test instance: ['rain', 'cool', 'normal', 'strong']\n",
            "The label for test instance:\n",
            "no\n",
            "The test instance: ['sunny', 'mild', 'normal', 'strong']\n",
            "The label for test instance:\n",
            "yes\n"
          ]
        }
      ]
    }
  ]
}